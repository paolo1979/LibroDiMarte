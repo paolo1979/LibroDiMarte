{
 "cells": [
  {
   "cell_type": "markdown",
   "metadata": {},
   "source": [
    "Il pianeta Marte\n",
    "====="
   ]
  },
  {
   "cell_type": "markdown",
   "metadata": {},
   "source": [
    "Marte è il quarto pianeta del sistema solare in ordine di distanza dal Sole; Marte è visibile a occhio nudo ed è l'ultimo dei pianeti di tipo terrestre (cioè un pianeta composto per la maggior parte di roccia e metalli) dopo Mercurio, Venere e la Terra. "
   ]
  },
  {
   "cell_type": "markdown",
   "metadata": {},
   "source": [
    "\n",
    "\n",
    "![alt text](./solar_system_graphic.jpg \"Immagine del sistema solare\")"
   ]
  },
  {
   "cell_type": "markdown",
   "metadata": {},
   "source": [
    "Chiamato il Pianeta rosso a causa del suo colore caratteristico causato dalle grandi quantità di ossido di ferro che lo ricoprono, Marte prende il nome dall'omonima divinità della mitologia romana e il suo simbolo astronomico è la rappresentazione stilizzata dello scudo e della lancia del dio. ![](./mars_symbol.png)"
   ]
  },
  {
   "cell_type": "markdown",
   "metadata": {},
   "source": [
    "![alt text](./2160px-Schiaparelli_Hemisphere_Enhanced.jpg \"Marte, il pianeta rosso\")\n",
    "\n",
    "Image credit: USGS \\[Public domain\\]"
   ]
  },
  {
   "cell_type": "markdown",
   "metadata": {},
   "source": [
    "Pur presentando temperature medie superficiali piuttosto basse (tra i −120 °C e −14 °C) e un atmosfera molto rarefatta, è il pianeta più simile alla Terra tra quelli del sistema solare."
   ]
  },
  {
   "cell_type": "markdown",
   "metadata": {},
   "source": [
    "![](./mars_viking.png \"Superficie di marte vista dal lander Viking\")\n",
    "\n",
    "Questa è la superficie del pianeta vista dalla prima sonda che ci fu mandata, la [Viking 1](https://it.wikipedia.org/wiki/Programma_Viking), nel 1975."
   ]
  },
  {
   "cell_type": "markdown",
   "metadata": {},
   "source": [
    "Le dimensioni di Marte sono una via di mezzo tra quelle della Luna e della Terra, e ha una durata del giorno molto simile a quella del nostro pianeta. La sua superficie presenta segni di **formazioni vulcaniche**, **valli**, **calotte polari** e formazioni geologiche che ci fanno pensare che nel passato ci fosse acqua su Marte."
   ]
  },
  {
   "cell_type": "markdown",
   "metadata": {},
   "source": [
    "![](./volcano_of_mars.jpg)\n",
    "\n",
    "Questa è una fotografia dell'[Ascraeus Mons](https://it.wikipedia.org/wiki/Ascraeus_Mons), uno dei vulcani più alti di Marte. La fotografia è stata scattata dalla sonda [Mariner 9](https://it.wikipedia.org/wiki/Mariner_9), che fu la prima ad orbitare intorno al pianeta rosso intorno nel 1971. Il vulcano non è più attivo, ma lo è stato per tanti anni durante la storia recente del pianeta rosso."
   ]
  },
  {
   "cell_type": "markdown",
   "metadata": {},
   "source": [
    "![](./Mars_Valles_Marineris.jpeg \"La valle del Mariner su Marte, con i tre famosi vulcani sulla sinistra\")\n",
    "\n",
    "Nella fotografia qui sopra si vedono bene i grandi vulcani della regione di *Tharsis* e il grande insieme di canyon che si spiega lungo l'equatore del pianeta. Questo insieme di canyon si chiama *Valle del Mariner*, ed è lunga più di **4000 km**. 4000 km sono un pò di più del diametro della Luna. La fotografia qui sopra è stata costruita mettendo insieme 102 fotografie fatta dalla sonda orbitale Viking 1."
   ]
  },
  {
   "cell_type": "markdown",
   "metadata": {},
   "source": [
    "Queste invece sono due fotografie delle calotte polari di Marte, quella settentrionale e quella meridionale.\n",
    "\n",
    "![](./Martian_north_polar_cap.jpg \"La calotta polare settentrionale di Marte\")\n",
    "\n",
    "![](./South_Polar_Cap_of_Mars_during_Martian_South_summer_2000.jpg \"La calotta polare meridionale di Marte\")"
   ]
  },
  {
   "cell_type": "markdown",
   "metadata": {},
   "source": [
    "La superficie del pianeta Marte è fortemente craterizzata, a causa della quasi completa assenza di agenti erosivi (come il vento e l'acqua) e di altri fattori, come l'assenza di attività tettonica delle placche. La bassissima densità dell'atmosfera di Marte non consente di consumare buona parte delle meteore che poi arrivano al suolo molto frequentemente. La superficie di Marte è molto spesso scossa da potenti tempeste di polvere e sabbia rossa, con tornadi molto potenti. Ecco l'effetto di una potente tempesta di sabbia sulla superficie del pianeta nel 2018:\n",
    "\n",
    "![](./PIA22487-Mars-BeforeAfterDust-20180719.gif \"Effetto di una potente tempesta di polvere sulla superficie del pianeta Marte nel 2018\")\n",
    "\n",
    "Ecco un esempio di un tornado fotografato dall'orbita:\n",
    "\n",
    "![](21_the_serpent_dust_devil_on_mars_pia15116-br2.jpg \"Tornado sulla superficie di Marte\")\n",
    "\n",
    "Un altra cosa molto interessate di Marte è il [*Monte Olimpo*](https://it.wikipedia.org/wiki/Olympus_Mons), che è il vulcano più alto di tutto il sistema - alto quasi 27 km!\n",
    "\n",
    "![](./Olympus_mons.jpg \"Il Monte Olimpo, il vulcano più alto di tutto Marte\")"
   ]
  },
  {
   "cell_type": "markdown",
   "metadata": {},
   "source": [
    "Una cosa molto importante scoperta durante le ultime missioni sul pianeta rosso è stata quella di acqua congelata.\n",
    "\n",
    "![](PIA21465\\_-\\_North_Polar_Layers.jpg \"Uno dei tanti strati di ghiaccio trovati nelle regioni polari di Marte\")"
   ]
  },
  {
   "cell_type": "markdown",
   "metadata": {},
   "source": [
    "Marte ha due satelliti naturali che gli orbitano intorno. Il più vicino alla superficie si chiama *Fobos* mentre quello più esterno si chiama *Deimos*. Questa animazione fa vedere come sono le orbite di Deimos e Fobos:\n",
    "\n",
    "![](Orbits_of_Phobos_and_Deimos.gif \"Orbite di Phobos e Deimos intorno a Marte\")\n",
    "\n",
    "Ecco Fobos:\n",
    "\n",
    "![](221831main_PIA10368.png \"Fotografia di Fobos ripresa dal Mars Reconnaisance Orbiter nel 2008\")\n",
    "\n",
    "Ecco Deimos:\n",
    "\n",
    "![](Deimos-MRO.jpg \"Fotografia di Deimos ripresa dal Mars Reconnaisance Orbiter nel 2008\")"
   ]
  }
 ],
 "metadata": {
  "kernelspec": {
   "display_name": "Python 3",
   "language": "python",
   "name": "python3"
  },
  "language_info": {
   "codemirror_mode": {
    "name": "ipython",
    "version": 3
   },
   "file_extension": ".py",
   "mimetype": "text/x-python",
   "name": "python",
   "nbconvert_exporter": "python",
   "pygments_lexer": "ipython3",
   "version": "3.7.4"
  }
 },
 "nbformat": 4,
 "nbformat_minor": 2
}
